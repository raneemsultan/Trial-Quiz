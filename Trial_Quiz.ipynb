{
  "nbformat": 4,
  "nbformat_minor": 0,
  "metadata": {
    "colab": {
      "name": "Trial Quiz.ipynb",
      "provenance": []
    },
    "kernelspec": {
      "name": "python3",
      "display_name": "Python 3"
    },
    "language_info": {
      "name": "python"
    }
  },
  "cells": [
    {
      "cell_type": "markdown",
      "metadata": {
        "id": "N04--wZUNL9R"
      },
      "source": [
        "Import pandas library below"
      ]
    },
    {
      "cell_type": "code",
      "metadata": {
        "id": "PgubxVYwNLP-"
      },
      "source": [
        "#Your code"
      ],
      "execution_count": null,
      "outputs": []
    }
  ]
}